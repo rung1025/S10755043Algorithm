{
  "nbformat": 4,
  "nbformat_minor": 0,
  "metadata": {
    "colab": {
      "name": "0930selectionsort.ipynb",
      "provenance": [],
      "include_colab_link": true
    },
    "kernelspec": {
      "name": "python3",
      "display_name": "Python 3"
    }
  },
  "cells": [
    {
      "cell_type": "markdown",
      "metadata": {
        "id": "view-in-github",
        "colab_type": "text"
      },
      "source": [
        "<a href=\"https://colab.research.google.com/github/rung1025/S10755043Algorithm/blob/master/0930selectionsort.ipynb\" target=\"_parent\"><img src=\"https://colab.research.google.com/assets/colab-badge.svg\" alt=\"Open In Colab\"/></a>"
      ]
    },
    {
      "cell_type": "code",
      "metadata": {
        "id": "MpBxFAbjBoRL"
      },
      "source": [
        "def Selction_Sort(datas):\n",
        "    for i in range(len(datas)-1):                           #(n-1)\n",
        "        min = i # 第一次選從第一個數開始,第二次從第二個數開始           #(n-1)*1\n",
        "        for j in range(i+1, len(datas)):    # 用記錄的max數與其他的比較   #(n-1)*1*(n-1)\n",
        "            if datas[j] < datas[min]:                     #(n-1)*1*(n-1)*1\n",
        "                min = j                          #(n-1)*1*(n-1)*1*1\n",
        "        datas[i], datas[min] = datas[min], datas[i]               #(n-1)*1\n",
        "        print(datas)                                \n",
        "        print('---'*10)                              \n",
        "    return datas                                   #1  \n",
        "\n",
        "\n",
        "if __name__ == '__main__':\n",
        "    import random\n",
        "    a = list(range(16))\n",
        "    random.shuffle(a)\n",
        "    print(a)\n",
        "    a = Selction_Sort(a)\n",
        "    print(a)"
      ],
      "execution_count": null,
      "outputs": []
    },
    {
      "cell_type": "markdown",
      "metadata": {
        "id": "v86PTkvvo2dw"
      },
      "source": [
        "3(n-1)+3(n-1)^2+1=3n-3+3(n^2-2n+1)+1=3n^2-3n+1\n",
        "所以O(^2)"
      ]
    }
  ]
}