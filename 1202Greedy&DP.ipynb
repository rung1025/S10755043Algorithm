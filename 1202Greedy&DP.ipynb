{
  "nbformat": 4,
  "nbformat_minor": 0,
  "metadata": {
    "colab": {
      "name": "1202Greedy&DP.ipynb",
      "provenance": [],
      "authorship_tag": "ABX9TyNVmUlJ3RWQvBS208HvHEai",
      "include_colab_link": true
    },
    "kernelspec": {
      "name": "python3",
      "display_name": "Python 3"
    }
  },
  "cells": [
    {
      "cell_type": "markdown",
      "metadata": {
        "id": "view-in-github",
        "colab_type": "text"
      },
      "source": [
        "<a href=\"https://colab.research.google.com/github/rung1025/S10755043Algorithm/blob/master/1202Greedy%26DP.ipynb\" target=\"_parent\"><img src=\"https://colab.research.google.com/assets/colab-badge.svg\" alt=\"Open In Colab\"/></a>"
      ]
    },
    {
      "cell_type": "code",
      "metadata": {
        "colab": {
          "base_uri": "https://localhost:8080/"
        },
        "id": "8BGvrcKePdvI",
        "outputId": "cde7d338-d3cc-4dc7-9230-ee78706f36da"
      },
      "source": [
        "#找零問題\n",
        "#貪婪法\n",
        " \n",
        "t=[25,20,5,1]\n",
        "a=int(input(\"多少錢?\"))\n",
        " \n",
        "def change(t,n):\n",
        "  num=1\n",
        "  m=[0 for _ in range(len(t))]\n",
        "  for i,money in enumerate(t):  #enumerate() 函数用于将一个可遍历的数据对象(如列表、元组或字符串)组合为一个索引序列，同时列出数据和数据下标\n",
        "    m[i]= n // money\n",
        "    n = n % money\n",
        "    print(m,n)\n",
        "    num+=1\n",
        "  print(\"總共需要%d個硬幣\"%num)\n",
        "  \n",
        "change(t,a)"
      ],
      "execution_count": null,
      "outputs": [
        {
          "output_type": "stream",
          "text": [
            "多少錢?41\n",
            "[1, 0, 0, 0] 16\n",
            "[1, 0, 0, 0] 16\n",
            "[1, 0, 3, 0] 1\n",
            "[1, 0, 3, 1] 0\n",
            "總共需要5個硬幣\n"
          ],
          "name": "stdout"
        }
      ]
    },
    {
      "cell_type": "code",
      "metadata": {
        "id": "-5oxghqEbwIO",
        "colab": {
          "base_uri": "https://localhost:8080/"
        },
        "outputId": "65c71fa1-2b58-4896-c4a5-081da0b4e6f9"
      },
      "source": [
        "#找零問題\n",
        "#動態規劃\n",
        " \n",
        "def recMC(coinValueList,change):\n",
        "  minCoins=change\n",
        "  if change in coinValueList:\n",
        "    return 1       #最基礎狀況，剛好要找的錢就是零錢本身\n",
        "  else:\n",
        "    for i in [c for c in coinValueList if c<=change]:  #若沒有任何硬幣等於找零數，對每個不同硬幣值進行遞歸調用\n",
        "      numCoins=1+recMC(coinValueList,change-1)\n",
        "      if numCoins<minCoins:\n",
        "        minCoins=numCoins\n",
        " \n",
        "  return minCoins\n",
        " \n",
        "print(recMC([1,5,20,25],23))"
      ],
      "execution_count": null,
      "outputs": [
        {
          "output_type": "stream",
          "text": [
            "4\n"
          ],
          "name": "stdout"
        }
      ]
    },
    {
      "cell_type": "code",
      "metadata": {
        "colab": {
          "base_uri": "https://localhost:8080/"
        },
        "id": "SwvZ8sYzUwj6",
        "outputId": "f598d38d-5de7-43c2-ae35-056765261753"
      },
      "source": [
        "#小偷偷東西的背包問題嘿嘿嘿\n",
        "#Greedy Method\n",
        "\n",
        "n = 5  #物品數量\n",
        "value = [17000,35000,60000,9000,20000]\n",
        "weight = [5,1,4,3,2]\n",
        "capacity = 10 #背包可承受總重量\n",
        "\n",
        "def fractional_knapsack(value, weight, capacity):    \n",
        "    index = list(range(len(value)))\n",
        "    #計算值與重量的比率:\n",
        "    ratio = [v/w for v, w in zip(value, weight)] #zip是把兩串一維陣列合併為二維陣列 ex:a=[1,2] b=[3,4] zip(a,b)=[(1,3),(2,4)]    \n",
        "    index.sort(key=lambda i: ratio[i], reverse=True)  #按權重比降序排列，越輕且價值越高的物品放前面\n",
        " \n",
        "    max_value = 0  #初始設定什麼東西都沒拿所以價值為零\n",
        "    fractions = [0,0,0,0,0]  #fractions是一個陣列，用0,1來表示物品是否被拿走 #初始設定所有東西都還沒被拿走所以都是0\n",
        "    for i in index:\n",
        "        if weight[i] <= capacity:  #若是重量比可承受重量輕\n",
        "            fractions[i] = 1   #此物品可以放入背包\n",
        "            max_value += value[i]  #加入此物品價值\n",
        "            capacity -= weight[i]  #可承受重量減掉以放入的物品重量\n",
        "    return max_value, fractions \n",
        "  \n",
        "max_value, fractions = fractional_knapsack(value, weight, capacity)\n",
        "print('拿走物品的最高總價', max_value)\n",
        "print('哪些東西被拿走了?')\n",
        "if fractions[0]==1:  \n",
        "  print(\"PS5\")\n",
        "if fractions[1]==1:\n",
        "  print(\"iPad pro 12\")\n",
        "if fractions[2]==1:\n",
        "  print(\"Macbook pro 15\")\n",
        "if fractions[3]==1:\n",
        "  print(\"HomePod\")\n",
        "if fractions[4]==1:\n",
        "  print(\"Mac mini\")"
      ],
      "execution_count": null,
      "outputs": [
        {
          "output_type": "stream",
          "text": [
            "拿走物品的最高總價 124000\n",
            "哪些東西被拿走了?\n",
            "iPad pro 12\n",
            "Macbook pro 15\n",
            "HomePod\n",
            "Mac mini\n"
          ],
          "name": "stdout"
        }
      ]
    },
    {
      "cell_type": "code",
      "metadata": {
        "id": "_IygmBikOX07",
        "colab": {
          "base_uri": "https://localhost:8080/"
        },
        "outputId": "715551ac-85a4-482a-c1c4-e244d59a1352"
      },
      "source": [
        "#小偷偷東西的背包問題嘿嘿嘿\n",
        "# Dynamic programming \n",
        "\n",
        "#[n + 1] [W + 1]該表的行對應於從0到n的項目。表格的各欄對應的重量限​​制為0到W。該表的最後一個單元格的索引為：[n] [W]\n",
        "#索引為[i] [j]的單元格的值表示當考慮從0到i的項目並將總重量限制為j時可能的最大利潤。\n",
        "def knapSack(W, wt, val): \n",
        "    n=len(val)\n",
        "    table = [[0 for x in range(W + 1)] for x in range(n + 1)] #我們將使用for循環遍歷表格並填充每個單元格中的條目。\n",
        " \n",
        "    for i in range(n + 1): \n",
        "        for j in range(W + 1): \n",
        "            if i == 0 or j == 0:  #如果i == 0或j == 0：表[i] [j] = 0這部分代碼負責將第0行和第0列設置為0。\n",
        "                table[i][j] = 0\n",
        "            elif wt[i-1] <= j:   #此代碼行檢查第i個對象的權重是否小於該單元格（j）允許的總權重。\n",
        "                table[i][j] = max(val[i-1]  + table[i-1][j-wt[i-1]],  table[i-1][j])  #這行代碼負責選擇我們可用的兩個選項中的最大值。\n",
        "            else: \n",
        "                table[i][j] = table[i-1][j]   #當第i個對象的權重大於允許的限制（j）時，將訪問循環的這一部分。\n",
        "   \n",
        "    return table[n][W] \n",
        "\n",
        "\n",
        "val = [17000,35000,60000,9000,20000]\n",
        "wt = [5,1,4,3,2]\n",
        "W = 10\n",
        " \n",
        "print('拿走物品的最高總價',knapSack(W, wt, val))\n"
      ],
      "execution_count": null,
      "outputs": [
        {
          "output_type": "stream",
          "text": [
            "拿走物品的最高總價 124000\n"
          ],
          "name": "stdout"
        }
      ]
    }
  ]
}