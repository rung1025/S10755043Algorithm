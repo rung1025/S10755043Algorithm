{
  "nbformat": 4,
  "nbformat_minor": 0,
  "metadata": {
    "colab": {
      "name": "1202Greedy&DP.ipynb",
      "provenance": [],
      "authorship_tag": "ABX9TyPj8smXr8wyiaUVL3ZBHBDL",
      "include_colab_link": true
    },
    "kernelspec": {
      "name": "python3",
      "display_name": "Python 3"
    }
  },
  "cells": [
    {
      "cell_type": "markdown",
      "metadata": {
        "id": "view-in-github",
        "colab_type": "text"
      },
      "source": [
        "<a href=\"https://colab.research.google.com/github/rung1025/S10755043Algorithm/blob/master/1202Greedy%26DP.ipynb\" target=\"_parent\"><img src=\"https://colab.research.google.com/assets/colab-badge.svg\" alt=\"Open In Colab\"/></a>"
      ]
    },
    {
      "cell_type": "code",
      "metadata": {
        "colab": {
          "base_uri": "https://localhost:8080/"
        },
        "id": "8BGvrcKePdvI",
        "outputId": "cde7d338-d3cc-4dc7-9230-ee78706f36da"
      },
      "source": [
        "#貪婪法\n",
        "\n",
        "t=[25,20,5,1]\n",
        "a=int(input(\"多少錢?\"))\n",
        "\n",
        "def change(t,n):\n",
        "  num=1\n",
        "  m=[0 for _ in range(len(t))]\n",
        "  for i,money in enumerate(t):\n",
        "    m[i]= n // money\n",
        "    n = n % money\n",
        "    print(m,n)\n",
        "    num+=1\n",
        "  print(\"總共需要%d個硬幣\"%num)\n",
        "  \n",
        "change(t,a)\n"
      ],
      "execution_count": 16,
      "outputs": [
        {
          "output_type": "stream",
          "text": [
            "多少錢?41\n",
            "[1, 0, 0, 0] 16\n",
            "[1, 0, 0, 0] 16\n",
            "[1, 0, 3, 0] 1\n",
            "[1, 0, 3, 1] 0\n",
            "總共需要5個硬幣\n"
          ],
          "name": "stdout"
        }
      ]
    },
    {
      "cell_type": "code",
      "metadata": {
        "colab": {
          "base_uri": "https://localhost:8080/"
        },
        "id": "1TBiKT7-RCxN",
        "outputId": "b9d086ec-8242-47df-d328-c19f56ba5b9e"
      },
      "source": [
        "#動態規劃\n",
        "\n",
        "def coin_change(coins,change,dp,coins_used):\n",
        "\t'''利用動態規劃求解找零需要的錢幣張數，以及錢幣的使用情况'''\n",
        "\tfor i in range(1,change+1):\n",
        "\t\t#依次求解，dp[1]~dp[change]\n",
        "\t\tfor j in range(len(coins)):\n",
        "\t\t\tif coins[j]<=i:\n",
        "\t\t\t\t#使用這張錢幣的前提，纸幣金額數<=需要找零的金額，比如：找零8塊，不能使用10塊的錢幣\n",
        "\t\t\t\tif dp[i-coins[j]]+1<dp[i]:\n",
        "\t\t\t\t\t#dp[i]=min(dp[i],dp[i-coins[j]]+1)\n",
        "\t\t\t\t\tdp[i]=dp[i-coins[j]]+1\n",
        "\t\t\t\t\t#計錄使用的錢幣\n",
        "\t\t\t\t\tnew_coin=coins[j]\n",
        "\t\tcoins_used[i]=new_coin\n",
        " \n",
        "\tif dp[change]>change:\n",
        "\t\t#無解的情况，初始化的時候設置dp[change]=change+1\n",
        "\t\treturn -1\n",
        "\telse:\n",
        "\t\treturn dp[change]\n",
        "def used_coins(change,used_coins):\n",
        "\t'''利用used_coins求解使用的錢幣'''\n",
        "\tre=[]\n",
        "\twhile change:\n",
        "\t\t#dp[i]=dp[i-coins[j]]+1    used_coins[change]=coins[j]\n",
        "\t\ttmp=used_coins[change]\n",
        "\t\tre.append(tmp)\n",
        "\t\tchange-=tmp\n",
        "\treturn re\n",
        " \n",
        "if __name__=='__main__':\n",
        "\t#初始化\n",
        "\tcoins=[1,2,5,7,10]\n",
        "\tchange=16\n",
        "\tdp=[change+1]*(change+1)\n",
        "\tdp[0]=0\n",
        "\tcoins_used=[0]*(change+1)\n",
        " \n",
        "\tre=coin_change(coins,change,dp,coins_used)\n",
        "\tre_coins=used_coins(change,coins_used)\n",
        "\tprint(\"找零{0}元需要{1}張錢幣,分别是{2}\".format(change,re,re_coins))"
      ],
      "execution_count": 19,
      "outputs": [
        {
          "output_type": "stream",
          "text": [
            "找零16元需要3張錢幣,分别是[1, 5, 10]\n"
          ],
          "name": "stdout"
        }
      ]
    },
    {
      "cell_type": "code",
      "metadata": {
        "colab": {
          "base_uri": "https://localhost:8080/"
        },
        "id": "SwvZ8sYzUwj6",
        "outputId": "f598d38d-5de7-43c2-ae35-056765261753"
      },
      "source": [
        "#小偷偷東西的背包問題嘿嘿嘿\n",
        "#Greedy Method\n",
        "\n",
        "n = 5  #物品數量\n",
        "value = [17000,35000,60000,9000,20000]\n",
        "weight = [5,1,4,3,2]\n",
        "capacity = 10 #背包可承受總重量\n",
        "\n",
        "def fractional_knapsack(value, weight, capacity):    \n",
        "    index = list(range(len(value)))\n",
        "    #計算值與重量的比率:\n",
        "    ratio = [v/w for v, w in zip(value, weight)] #zip是把兩串一維陣列合併為二維陣列 ex:a=[1,2] b=[3,4] zip(a,b)=[(1,3),(2,4)]    \n",
        "    index.sort(key=lambda i: ratio[i], reverse=True)  #按權重比降序排列，越輕且價值越高的物品放前面\n",
        " \n",
        "    max_value = 0  #初始設定什麼東西都沒拿所以價值為零\n",
        "    fractions = [0,0,0,0,0]  #fractions是一個陣列，用0,1來表示物品是否被拿走 #初始設定所有東西都還沒被拿走所以都是0\n",
        "    for i in index:\n",
        "        if weight[i] <= capacity:  #若是重量比可承受重量輕\n",
        "            fractions[i] = 1   #此物品可以放入背包\n",
        "            max_value += value[i]  #加入此物品價值\n",
        "            capacity -= weight[i]  #可承受重量減掉以放入的物品重量\n",
        "    return max_value, fractions \n",
        "  \n",
        "max_value, fractions = fractional_knapsack(value, weight, capacity)\n",
        "print('拿走物品的最高總價', max_value)\n",
        "print('哪些東西被拿走了?')\n",
        "if fractions[0]==1:  \n",
        "  print(\"PS5\")\n",
        "if fractions[1]==1:\n",
        "  print(\"iPad pro 12\")\n",
        "if fractions[2]==1:\n",
        "  print(\"Macbook pro 15\")\n",
        "if fractions[3]==1:\n",
        "  print(\"HomePod\")\n",
        "if fractions[4]==1:\n",
        "  print(\"Mac mini\")"
      ],
      "execution_count": 53,
      "outputs": [
        {
          "output_type": "stream",
          "text": [
            "拿走物品的最高總價 124000\n",
            "哪些東西被拿走了?\n",
            "iPad pro 12\n",
            "Macbook pro 15\n",
            "HomePod\n",
            "Mac mini\n"
          ],
          "name": "stdout"
        }
      ]
    }
  ]
}