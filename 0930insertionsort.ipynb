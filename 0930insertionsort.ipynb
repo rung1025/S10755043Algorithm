{
  "nbformat": 4,
  "nbformat_minor": 0,
  "metadata": {
    "colab": {
      "name": "0930insertionsort.ipynb",
      "provenance": [],
      "authorship_tag": "ABX9TyPLWo0nHYsoQorm39Kc9IcF",
      "include_colab_link": true
    },
    "kernelspec": {
      "name": "python3",
      "display_name": "Python 3"
    }
  },
  "cells": [
    {
      "cell_type": "markdown",
      "metadata": {
        "id": "view-in-github",
        "colab_type": "text"
      },
      "source": [
        "<a href=\"https://colab.research.google.com/github/rung1025/S10755043Algorithm/blob/master/0930insertionsort.ipynb\" target=\"_parent\"><img src=\"https://colab.research.google.com/assets/colab-badge.svg\" alt=\"Open In Colab\"/></a>"
      ]
    },
    {
      "cell_type": "code",
      "metadata": {
        "id": "cz0y5jOP8Dzl",
        "outputId": "436b1da4-2091-478e-c239-85a18f7e3f77",
        "colab": {
          "base_uri": "https://localhost:8080/",
          "height": 306
        }
      },
      "source": [
        "def Insertion_Sort(datas):\n",
        "    for i in range(1, len(datas)):       # (n-1)\n",
        "        for j in range(i):          # (n-1)(n-1)\n",
        "            current = datas[i]      # (n-1)(n-1)n\n",
        "            if current < datas[j]:    # (n-1)(n-1)n*n\n",
        "                for k in range(i,j): # (n-1)(n-1)n(n-1)\n",
        "                  print(datas)     # (n-1)(n-1)n(n-1)n\n",
        "    return datas                   #1\n",
        "\n",
        "\n",
        "def insertionSort(arr):\n",
        "    for i in range(len(arr)):\n",
        "        preIndex = i-1\n",
        "        current = arr[i]\n",
        "        while preIndex >= 0 and arr[preIndex] > current:\n",
        "            arr[preIndex+1] = arr[preIndex]\n",
        "            preIndex-=1\n",
        "        arr[preIndex+1] = current\n",
        "        print(arr)\n",
        "    return arr\n",
        "\n",
        "if __name__ == '__main__':\n",
        "    import random\n",
        "    a = list(range(16))\n",
        "    random.shuffle(a)\n",
        "    b = a.copy()\n",
        "\n",
        "    arr = insertionSort(a)\n",
        "    print('---'*10)\n",
        "    Insertion_Sort(b)"
      ],
      "execution_count": null,
      "outputs": [
        {
          "output_type": "stream",
          "text": [
            "[8, 12, 3, 15, 1, 0, 2, 10, 14, 9, 11, 5, 13, 7, 6, 4]\n",
            "[8, 12, 3, 15, 1, 0, 2, 10, 14, 9, 11, 5, 13, 7, 6, 4]\n",
            "[3, 8, 12, 15, 1, 0, 2, 10, 14, 9, 11, 5, 13, 7, 6, 4]\n",
            "[3, 8, 12, 15, 1, 0, 2, 10, 14, 9, 11, 5, 13, 7, 6, 4]\n",
            "[1, 3, 8, 12, 15, 0, 2, 10, 14, 9, 11, 5, 13, 7, 6, 4]\n",
            "[0, 1, 3, 8, 12, 15, 2, 10, 14, 9, 11, 5, 13, 7, 6, 4]\n",
            "[0, 1, 2, 3, 8, 12, 15, 10, 14, 9, 11, 5, 13, 7, 6, 4]\n",
            "[0, 1, 2, 3, 8, 10, 12, 15, 14, 9, 11, 5, 13, 7, 6, 4]\n",
            "[0, 1, 2, 3, 8, 10, 12, 14, 15, 9, 11, 5, 13, 7, 6, 4]\n",
            "[0, 1, 2, 3, 8, 9, 10, 12, 14, 15, 11, 5, 13, 7, 6, 4]\n",
            "[0, 1, 2, 3, 8, 9, 10, 11, 12, 14, 15, 5, 13, 7, 6, 4]\n",
            "[0, 1, 2, 3, 5, 8, 9, 10, 11, 12, 14, 15, 13, 7, 6, 4]\n",
            "[0, 1, 2, 3, 5, 8, 9, 10, 11, 12, 13, 14, 15, 7, 6, 4]\n",
            "[0, 1, 2, 3, 5, 7, 8, 9, 10, 11, 12, 13, 14, 15, 6, 4]\n",
            "[0, 1, 2, 3, 5, 6, 7, 8, 9, 10, 11, 12, 13, 14, 15, 4]\n",
            "[0, 1, 2, 3, 4, 5, 6, 7, 8, 9, 10, 11, 12, 13, 14, 15]\n",
            "------------------------------\n"
          ],
          "name": "stdout"
        }
      ]
    }
  ]
}