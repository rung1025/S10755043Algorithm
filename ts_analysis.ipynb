{
  "nbformat": 4,
  "nbformat_minor": 0,
  "metadata": {
    "colab": {
      "name": "ts_analysis.ipynb",
      "provenance": [],
      "collapsed_sections": [],
      "authorship_tag": "ABX9TyMvKnEIKT9R8EyahHyfX5Ny",
      "include_colab_link": true
    },
    "kernelspec": {
      "name": "python3",
      "display_name": "Python 3"
    }
  },
  "cells": [
    {
      "cell_type": "markdown",
      "metadata": {
        "id": "view-in-github",
        "colab_type": "text"
      },
      "source": [
        "<a href=\"https://colab.research.google.com/github/rung1025/S10755043Algorithm/blob/master/ts_analysis.ipynb\" target=\"_parent\"><img src=\"https://colab.research.google.com/assets/colab-badge.svg\" alt=\"Open In Colab\"/></a>"
      ]
    },
    {
      "cell_type": "code",
      "metadata": {
        "id": "yS4UmgjecKzv"
      },
      "source": [
        "#include<iostream>\n",
        "using namespace std;      #遞迴版費氏數列\n",
        "                 #耗時長空間小\n",
        "int f(int n)          #時間換空間\n",
        "{\n",
        "    if( n==1 or n==2 )\n",
        "        return 1;\n",
        "    if( n >= 3 )\n",
        "        return f(n-1)+f(n-2);\n",
        "}\n",
        "\n",
        "int main()\n",
        "{\n",
        "    int n;\n",
        "    while( cin >> n )\n",
        "    {\n",
        "        cout << f(n) << endl;\n",
        "    }\n",
        "\n",
        "    return 0;\n",
        "}"
      ],
      "execution_count": null,
      "outputs": []
    },
    {
      "cell_type": "code",
      "metadata": {
        "id": "sa_5K0W1leTD"
      },
      "source": [
        "#include<iostream>\n",
        "using namespace std;     #迴圈陣列版費氏數列\n",
        "                #計算快占空間\n",
        "int main()          #空間換時間\n",
        "{\n",
        "    long long fib[75];\n",
        "    int n, i;\n",
        "\n",
        "    fib[1] = 1;\n",
        "    fib[2] = 1;\n",
        "    for( i=3 ; i<=70 ; i=i+1 )\n",
        "        fib[i] = fib[i-1] + fib[i-2];\n",
        "\n",
        "    while( cin >> n )\n",
        "    {\n",
        "        cout << fib[n] << endl;\n",
        "    }\n",
        "\n",
        "    return 0;\n",
        "}"
      ],
      "execution_count": null,
      "outputs": []
    }
  ]
}