{
  "nbformat": 4,
  "nbformat_minor": 0,
  "metadata": {
    "colab": {
      "name": "ts_analysis.ipynb",
      "provenance": [],
      "collapsed_sections": [],
      "include_colab_link": true
    },
    "kernelspec": {
      "name": "python3",
      "display_name": "Python 3"
    }
  },
  "cells": [
    {
      "cell_type": "markdown",
      "metadata": {
        "id": "view-in-github",
        "colab_type": "text"
      },
      "source": [
        "<a href=\"https://colab.research.google.com/github/rung1025/S10755043Algorithm/blob/master/ts_analysis.ipynb\" target=\"_parent\"><img src=\"https://colab.research.google.com/assets/colab-badge.svg\" alt=\"Open In Colab\"/></a>"
      ]
    },
    {
      "cell_type": "code",
      "metadata": {
        "id": "yS4UmgjecKzv"
      },
      "source": [
        "def fibon(n):\n",
        "  # 檢查 n 是否為整數      \n",
        "  if(type(n) == int):\n",
        "    if n < 2:                #遞迴版費氏數列       \n",
        "      return n               #耗時長但占空間小\n",
        "    else:                    #空間換時間\n",
        "      return fibon(n-1) + fibon(n-2)\n",
        "\n",
        "fibon(3.3) # 測試浮點數\n",
        "for i in range(10):\n",
        "  print(fibon(i), end=', ')"
      ],
      "execution_count": null,
      "outputs": []
    },
    {
      "cell_type": "code",
      "metadata": {
        "id": "sa_5K0W1leTD"
      },
      "source": [
        "#include<iostream>\n",
        "using namespace std;     #迴圈陣列版費氏數列\n",
        "                #計算快占空間\n",
        "int main()          #空間換時間\n",
        "{\n",
        "    long long fib[75];\n",
        "    int n, i;\n",
        "\n",
        "    fib[1] = 1;\n",
        "    fib[2] = 1;\n",
        "    for( i=3 ; i<=70 ; i=i+1 )\n",
        "        fib[i] = fib[i-1] + fib[i-2];\n",
        "\n",
        "    while( cin >> n )\n",
        "    {\n",
        "        cout << fib[n] << endl;\n",
        "    }\n",
        "\n",
        "    return 0;\n",
        "}"
      ],
      "execution_count": null,
      "outputs": []
    }
  ]
}