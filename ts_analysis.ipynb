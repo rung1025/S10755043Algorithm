{
  "nbformat": 4,
  "nbformat_minor": 0,
  "metadata": {
    "colab": {
      "name": "ts_analysis.ipynb",
      "provenance": [],
      "collapsed_sections": [],
      "include_colab_link": true
    },
    "kernelspec": {
      "name": "python3",
      "display_name": "Python 3"
    }
  },
  "cells": [
    {
      "cell_type": "markdown",
      "metadata": {
        "id": "view-in-github",
        "colab_type": "text"
      },
      "source": [
        "<a href=\"https://colab.research.google.com/github/rung1025/S10755043Algorithm/blob/master/ts_analysis.ipynb\" target=\"_parent\"><img src=\"https://colab.research.google.com/assets/colab-badge.svg\" alt=\"Open In Colab\"/></a>"
      ]
    },
    {
      "cell_type": "code",
      "metadata": {
        "id": "yS4UmgjecKzv",
        "outputId": "8a8c7357-a260-436d-d1a7-863ace707650",
        "colab": {
          "base_uri": "https://localhost:8080/",
          "height": 34
        }
      },
      "source": [
        "def fibon(n):\n",
        "  # 檢查 n 是否為整數      \n",
        "  if(type(n) == int):\n",
        "    if n < 2:                #遞迴版費氏數列       \n",
        "      return n               #耗時長但占空間小\n",
        "    else:                    #空間換時間\n",
        "      return fibon(n-1) + fibon(n-2)\n",
        "\n",
        "fibon(3.3) # 測試浮點數\n",
        "for i in range(10):\n",
        "  print(fibon(i), end=', ')"
      ],
      "execution_count": 3,
      "outputs": [
        {
          "output_type": "stream",
          "text": [
            "0, 1, 1, 2, 3, 5, 8, 13, 21, 34, "
          ],
          "name": "stdout"
        }
      ]
    },
    {
      "cell_type": "code",
      "metadata": {
        "id": "sa_5K0W1leTD",
        "outputId": "674a0a01-a297-484d-c244-a45b43716e5a",
        "colab": {
          "base_uri": "https://localhost:8080/",
          "height": 34
        }
      },
      "source": [
        "def dp_fib(n):\n",
        "  if n < 2:\n",
        "      return n  \n",
        "                      #迴圈版費氏數列                      \n",
        "  n0 = 0                #計算快占空間\n",
        "  n1 = 1                #空間換時間\n",
        "  fib = 0\n",
        "  for i in range(n-1):\n",
        "    fib = n1 + n0\n",
        "    n0 = n1\n",
        "    n1 = fib\n",
        "  return fib\n",
        "\n",
        "# 輸出前 9 項\n",
        "for i in range(10):\n",
        "  print(dp_fib(i), end=', ')\n"
      ],
      "execution_count": 4,
      "outputs": [
        {
          "output_type": "stream",
          "text": [
            "0, 1, 1, 2, 3, 5, 8, 13, 21, 34, "
          ],
          "name": "stdout"
        }
      ]
    }
  ]
}