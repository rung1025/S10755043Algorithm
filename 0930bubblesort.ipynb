{
  "nbformat": 4,
  "nbformat_minor": 0,
  "metadata": {
    "colab": {
      "name": "0930bubblesort.ipynb",
      "provenance": [],
      "authorship_tag": "ABX9TyNELBUGfZCgEDyMpEkcZVaQ",
      "include_colab_link": true
    },
    "kernelspec": {
      "name": "python3",
      "display_name": "Python 3"
    }
  },
  "cells": [
    {
      "cell_type": "markdown",
      "metadata": {
        "id": "view-in-github",
        "colab_type": "text"
      },
      "source": [
        "<a href=\"https://colab.research.google.com/github/rung1025/S10755043Algorithm/blob/master/0930bubblesort.ipynb\" target=\"_parent\"><img src=\"https://colab.research.google.com/assets/colab-badge.svg\" alt=\"Open In Colab\"/></a>"
      ]
    },
    {
      "cell_type": "code",
      "metadata": {
        "id": "sJFckWGz7R4c"
      },
      "source": [
        "def Bubble_Sort(datas):\n",
        "    for i in range(1, len(datas)): # 計算陣列的長度(才能知道最後一個數是第幾個數)，從1比到最後一個數\n",
        "        for j in range(len(datas)-i):   # 因為最後一個不用跟自己比，所以長度-1\n",
        "            if datas[j] > datas[j+1]:   # 若發現此次比較的數比下一個位置的數還大則交換此兩數值\n",
        "                datas[j], datas[j+1] = datas[j+1], datas[j]\n",
        "    return datas\n",
        "\n",
        "\n",
        "if __name__ == '__main__':\n",
        "    #import random\n",
        "    a = input(\"請輸入6個數值(請用空白鍵分開輸入)\").split()\n",
        "    #random.shuffle(a)\n",
        "    print(a)\n",
        "    a = Bubble_Sort(a)\n",
        "    print(a)"
      ],
      "execution_count": null,
      "outputs": []
    }
  ]
}