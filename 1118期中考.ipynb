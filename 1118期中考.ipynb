{
  "nbformat": 4,
  "nbformat_minor": 0,
  "metadata": {
    "colab": {
      "name": "1118期中考.ipynb",
      "provenance": [],
      "authorship_tag": "ABX9TyO8AdaXS2jwMKTjbq0LXobY",
      "include_colab_link": true
    },
    "kernelspec": {
      "name": "python3",
      "display_name": "Python 3"
    }
  },
  "cells": [
    {
      "cell_type": "markdown",
      "metadata": {
        "id": "view-in-github",
        "colab_type": "text"
      },
      "source": [
        "<a href=\"https://colab.research.google.com/github/rung1025/S10755043Algorithm/blob/master/1118%E6%9C%9F%E4%B8%AD%E8%80%83.ipynb\" target=\"_parent\"><img src=\"https://colab.research.google.com/assets/colab-badge.svg\" alt=\"Open In Colab\"/></a>"
      ]
    },
    {
      "cell_type": "code",
      "metadata": {
        "colab": {
          "base_uri": "https://localhost:8080/"
        },
        "id": "oKOl2Qw27Bnv",
        "outputId": "8a75de21-4940-4cd2-8dd3-6142e5087d5f"
      },
      "source": [
        "#選擇排序\n",
        "import random\n",
        "i=1\n",
        "list=[]\n",
        "while i<9:\n",
        "  a=random.randint(1,100)\n",
        "  list.append(a)\n",
        "  i+=1\n",
        "print(\"原始數列:\",list)\n",
        "\n",
        "tmp = list.copy()\n",
        "n = len(tmp)\n",
        "for i in range(len(list)):\n",
        "    Max_num = tmp[i] # 從未排完的值開始比較\n",
        "    for j in range(i,n-1,1):\n",
        "        if tmp[j] > Max_num:\n",
        "            Max_num = tmp[j]\n",
        "            tmp[i],tmp[j] = tmp[j],tmp[i]\n",
        "    print(\"第\",i+1,\"次排序:\",tmp)"
      ],
      "execution_count": 2,
      "outputs": [
        {
          "output_type": "stream",
          "text": [
            "原始數列: [26, 60, 34, 98, 100, 15, 74, 1]\n",
            "第 1 次排序: [100, 26, 34, 60, 98, 15, 74, 1]\n",
            "第 2 次排序: [100, 98, 26, 34, 60, 15, 74, 1]\n",
            "第 3 次排序: [100, 98, 74, 26, 34, 15, 60, 1]\n",
            "第 4 次排序: [100, 98, 74, 60, 26, 15, 34, 1]\n",
            "第 5 次排序: [100, 98, 74, 60, 34, 15, 26, 1]\n",
            "第 6 次排序: [100, 98, 74, 60, 34, 26, 15, 1]\n",
            "第 7 次排序: [100, 98, 74, 60, 34, 26, 15, 1]\n",
            "第 8 次排序: [100, 98, 74, 60, 34, 26, 15, 1]\n"
          ],
          "name": "stdout"
        }
      ]
    },
    {
      "cell_type": "code",
      "metadata": {
        "colab": {
          "base_uri": "https://localhost:8080/"
        },
        "id": "lkSn3Kbd-pJL",
        "outputId": "17cfcdfd-4519-420d-f7b4-22b46d4db3db"
      },
      "source": [
        "#插入排序\n",
        "import random\n",
        "i=1\n",
        "list=[]\n",
        "while i<9:\n",
        "  a=random.randint(1,100)\n",
        "  list.append(a)\n",
        "  i+=1\n",
        "print(\"原始數列:\",list)\n",
        "\n",
        "tmp = list.copy()\n",
        "n = len(tmp)\n",
        "for i in range(1, len(list)):   \n",
        "    min_num = tmp[i]   \n",
        "    j = i-1\n",
        "    while j >=0 and min_num < tmp[j] : \n",
        "            tmp[j+1] = tmp[j] \n",
        "            j -= 1\n",
        "    tmp[j+1] = min_num\n",
        "    print(\"第\",i+1,\"次排序:\",tmp) "
      ],
      "execution_count": 5,
      "outputs": [
        {
          "output_type": "stream",
          "text": [
            "原始數列: [92, 72, 76, 35, 86, 78, 79, 22]\n",
            "第 2 次排序: [72, 92, 76, 35, 86, 78, 79, 22]\n",
            "第 3 次排序: [72, 76, 92, 35, 86, 78, 79, 22]\n",
            "第 4 次排序: [35, 72, 76, 92, 86, 78, 79, 22]\n",
            "第 5 次排序: [35, 72, 76, 86, 92, 78, 79, 22]\n",
            "第 6 次排序: [35, 72, 76, 78, 86, 92, 79, 22]\n",
            "第 7 次排序: [35, 72, 76, 78, 79, 86, 92, 22]\n",
            "第 8 次排序: [22, 35, 72, 76, 78, 79, 86, 92]\n"
          ],
          "name": "stdout"
        }
      ]
    }
  ]
}