{
  "nbformat": 4,
  "nbformat_minor": 0,
  "metadata": {
    "colab": {
      "name": "1118期中考.ipynb",
      "provenance": [],
      "collapsed_sections": [],
      "authorship_tag": "ABX9TyOt4UGKtDPywCPsYpbUQ7PL",
      "include_colab_link": true
    },
    "kernelspec": {
      "name": "python3",
      "display_name": "Python 3"
    }
  },
  "cells": [
    {
      "cell_type": "markdown",
      "metadata": {
        "id": "view-in-github",
        "colab_type": "text"
      },
      "source": [
        "<a href=\"https://colab.research.google.com/github/rung1025/S10755043Algorithm/blob/master/1118%E6%9C%9F%E4%B8%AD%E8%80%83.ipynb\" target=\"_parent\"><img src=\"https://colab.research.google.com/assets/colab-badge.svg\" alt=\"Open In Colab\"/></a>"
      ]
    },
    {
      "cell_type": "code",
      "metadata": {
        "colab": {
          "base_uri": "https://localhost:8080/"
        },
        "id": "oKOl2Qw27Bnv",
        "outputId": "8a75de21-4940-4cd2-8dd3-6142e5087d5f"
      },
      "source": [
        "#選擇排序\n",
        "import random\n",
        "i=1\n",
        "list=[]\n",
        "while i<9:  \n",
        "  a=random.randint(1,100)\n",
        "  list.append(a)\n",
        "  i+=1\n",
        "print(\"原始數列:\",list)\n",
        "\n",
        "tmp = list.copy()\n",
        "n = len(tmp)\n",
        "for i in range(len(list)):\n",
        "    Max_num = tmp[i] # 先假設第一位是最大的\n",
        "    for j in range(i,n-1,1):  #和其他的數做比較\n",
        "        if tmp[j] > Max_num:  #若下一位比先前假設的值大\n",
        "            Max_num = tmp[j]  #最大值就變成這一位\n",
        "            tmp[i],tmp[j] = tmp[j],tmp[i] #兩個在list的位置交換\n",
        "    print(\"第\",i+1,\"次排序:\",tmp)"
      ],
      "execution_count": 2,
      "outputs": [
        {
          "output_type": "stream",
          "text": [
            "原始數列: [26, 60, 34, 98, 100, 15, 74, 1]\n",
            "第 1 次排序: [100, 26, 34, 60, 98, 15, 74, 1]\n",
            "第 2 次排序: [100, 98, 26, 34, 60, 15, 74, 1]\n",
            "第 3 次排序: [100, 98, 74, 26, 34, 15, 60, 1]\n",
            "第 4 次排序: [100, 98, 74, 60, 26, 15, 34, 1]\n",
            "第 5 次排序: [100, 98, 74, 60, 34, 15, 26, 1]\n",
            "第 6 次排序: [100, 98, 74, 60, 34, 26, 15, 1]\n",
            "第 7 次排序: [100, 98, 74, 60, 34, 26, 15, 1]\n",
            "第 8 次排序: [100, 98, 74, 60, 34, 26, 15, 1]\n"
          ],
          "name": "stdout"
        }
      ]
    },
    {
      "cell_type": "code",
      "metadata": {
        "colab": {
          "base_uri": "https://localhost:8080/"
        },
        "id": "lkSn3Kbd-pJL",
        "outputId": "aa427b49-c986-44d8-c6f5-7b389777a511"
      },
      "source": [
        "#插入排序\n",
        "import random\n",
        "i=1\n",
        "list=[]\n",
        "while i<9:\n",
        "  a=random.randint(1,100)\n",
        "  list.append(a)\n",
        "  i+=1\n",
        "print(\"原始數列:\",list)\n",
        "\n",
        "tmp = list.copy()\n",
        "n = len(tmp)\n",
        "for i in range(0,len(list)):   \n",
        "    min_num = tmp[i]   #\n",
        "    j = i-1     # 先將要比較的值暫存起來(以下稱它暫存值)\n",
        "    while j >=0 and min_num < tmp[j] :   # 將暫存值逐一和前面的值做比較，如果小於前面的值則將前面的值往後放\n",
        "            tmp[j+1] = tmp[j] \n",
        "            j -= 1\n",
        "    tmp[j+1] = min_num  # 插入剛找出來的最小值\n",
        "    print(\"第\",i+1,\"次排序:\",tmp) "
      ],
      "execution_count": 7,
      "outputs": [
        {
          "output_type": "stream",
          "text": [
            "原始數列: [86, 57, 77, 74, 23, 64, 48, 42]\n",
            "第 1 次排序: [86, 57, 77, 74, 23, 64, 48, 42]\n",
            "第 2 次排序: [57, 86, 77, 74, 23, 64, 48, 42]\n",
            "第 3 次排序: [57, 77, 86, 74, 23, 64, 48, 42]\n",
            "第 4 次排序: [57, 74, 77, 86, 23, 64, 48, 42]\n",
            "第 5 次排序: [23, 57, 74, 77, 86, 64, 48, 42]\n",
            "第 6 次排序: [23, 57, 64, 74, 77, 86, 48, 42]\n",
            "第 7 次排序: [23, 48, 57, 64, 74, 77, 86, 42]\n",
            "第 8 次排序: [23, 42, 48, 57, 64, 74, 77, 86]\n"
          ],
          "name": "stdout"
        }
      ]
    }
  ]
}