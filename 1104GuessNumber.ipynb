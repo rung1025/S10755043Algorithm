{
  "nbformat": 4,
  "nbformat_minor": 0,
  "metadata": {
    "colab": {
      "name": "1104GuessNumber.ipynb",
      "provenance": [],
      "authorship_tag": "ABX9TyPLoOsO7iUer/Ip06OiEv1z",
      "include_colab_link": true
    },
    "kernelspec": {
      "name": "python3",
      "display_name": "Python 3"
    }
  },
  "cells": [
    {
      "cell_type": "markdown",
      "metadata": {
        "id": "view-in-github",
        "colab_type": "text"
      },
      "source": [
        "<a href=\"https://colab.research.google.com/github/rung1025/S10755043Algorithm/blob/master/1104GuessNumber.ipynb\" target=\"_parent\"><img src=\"https://colab.research.google.com/assets/colab-badge.svg\" alt=\"Open In Colab\"/></a>"
      ]
    },
    {
      "cell_type": "code",
      "metadata": {
        "id": "MKKzVUb-HF5S",
        "outputId": "ed61e8a4-753c-4d12-d3b6-a2326ac79877",
        "colab": {
          "base_uri": "https://localhost:8080/"
        }
      },
      "source": [
        "import random\n",
        "\n",
        "secretnumber=random.randint(1,100)\n",
        "\n",
        "min=0\n",
        "Max=100\n",
        "\n",
        "while True:\n",
        "  guessnumber=int(input(\"\\n請輸入您猜的數\"))\n",
        "  if guessnumber==secretnumber:\n",
        "    print(\"猜對啦!\")\n",
        "    break\n",
        "  elif guessnumber>Max:\n",
        "    print(\"請輸入小於%d的數值\"%Max)  \n",
        "    \n",
        "  elif guessnumber<min:\n",
        "    print(\"請輸入大於%d的數值\"%min) \n",
        "\n",
        "\n",
        "  elif guessnumber<secretnumber:    \n",
        "    min=guessnumber\n",
        "    print(\"數值介於%d--%d之間\"%(min,Max))\n",
        "    \n",
        "  elif guessnumber>secretnumber:    \n",
        "    Max=guessnumber\n",
        "    print(\"數值介於%d--%d之間\"%(min,Max))\n",
        "\n",
        "\n"
      ],
      "execution_count": 23,
      "outputs": [
        {
          "output_type": "stream",
          "text": [
            "\n",
            "請輸入您猜的數50\n",
            "數值介於0--50之間\n",
            "\n",
            "請輸入您猜的數40\n",
            "數值介於0--40之間\n",
            "\n",
            "請輸入您猜的數35\n",
            "數值介於0--35之間\n",
            "\n",
            "請輸入您猜的數25\n",
            "數值介於0--25之間\n",
            "\n",
            "請輸入您猜的數17\n",
            "數值介於0--17之間\n",
            "\n",
            "請輸入您猜的數0\n",
            "數值介於0--17之間\n",
            "\n",
            "請輸入您猜的數-9\n",
            "請輸入大於0的數值\n",
            "\n",
            "請輸入您猜的數55\n",
            "請輸入小於17的數值\n",
            "\n",
            "請輸入您猜的數8\n",
            "猜對啦!\n"
          ],
          "name": "stdout"
        }
      ]
    }
  ]
}