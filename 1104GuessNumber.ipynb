{
  "nbformat": 4,
  "nbformat_minor": 0,
  "metadata": {
    "colab": {
      "name": "1104GuessNumber.ipynb",
      "provenance": [],
      "authorship_tag": "ABX9TyOEdJK5OwRMhFnZLFG8qh6K",
      "include_colab_link": true
    },
    "kernelspec": {
      "name": "python3",
      "display_name": "Python 3"
    }
  },
  "cells": [
    {
      "cell_type": "markdown",
      "metadata": {
        "id": "view-in-github",
        "colab_type": "text"
      },
      "source": [
        "<a href=\"https://colab.research.google.com/github/rung1025/S10755043Algorithm/blob/master/1104GuessNumber.ipynb\" target=\"_parent\"><img src=\"https://colab.research.google.com/assets/colab-badge.svg\" alt=\"Open In Colab\"/></a>"
      ]
    },
    {
      "cell_type": "code",
      "metadata": {
        "id": "MKKzVUb-HF5S",
        "outputId": "fa7b462e-be6d-47c6-bd03-2ab1a0ab9193",
        "colab": {
          "base_uri": "https://localhost:8080/"
        }
      },
      "source": [
        "import random\n",
        "\n",
        "secretnumber=random.randint(1,100)\n",
        "\n",
        "min=0\n",
        "Max=100\n",
        "\n",
        "while True:\n",
        "  guessnumber=int(input(\"\\n請輸入您猜的數\"))\n",
        "  if guessnumber==secretnumber:\n",
        "    print(\"猜對啦!\")\n",
        "    break\n",
        "  elif guessnumber>Max:\n",
        "    print(\"請輸入小於%d的數值\"%Max)  \n",
        "    \n",
        "  elif guessnumber<min:\n",
        "    print(\"請輸入大於%d的數值\"%min) \n",
        "\n",
        "\n",
        "  elif guessnumber<secretnumber:    \n",
        "    min=guessnumber\n",
        "    print(\"數值介於%d--%d之間\"%(min,Max))\n",
        "    \n",
        "  elif guessnumber>secretnumber:    \n",
        "    Max=guessnumber\n",
        "    print(\"數值介%d--%d之間\"%(min,Max))\n",
        "\n",
        "\n"
      ],
      "execution_count": 20,
      "outputs": [
        {
          "output_type": "stream",
          "text": [
            "\n",
            "請輸入您猜的數56\n",
            "數值介0--56之間\n",
            "\n",
            "請輸入您猜的數23\n",
            "數值介0--23之間\n",
            "\n",
            "請輸入您猜的數56\n",
            "請輸入小於23的數值\n",
            "\n",
            "請輸入您猜的數12\n",
            "數值介0--12之間\n",
            "\n",
            "請輸入您猜的數10\n",
            "數值介0--10之間\n",
            "\n",
            "請輸入您猜的數5\n",
            "猜對啦!\n"
          ],
          "name": "stdout"
        }
      ]
    }
  ]
}