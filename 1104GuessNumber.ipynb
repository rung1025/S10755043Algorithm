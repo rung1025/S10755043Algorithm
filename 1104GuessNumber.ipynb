{
  "nbformat": 4,
  "nbformat_minor": 0,
  "metadata": {
    "colab": {
      "name": "1104GuessNumber.ipynb",
      "provenance": [],
      "authorship_tag": "ABX9TyN4kk0ozIeQmpm3gJtofY63",
      "include_colab_link": true
    },
    "kernelspec": {
      "name": "python3",
      "display_name": "Python 3"
    }
  },
  "cells": [
    {
      "cell_type": "markdown",
      "metadata": {
        "id": "view-in-github",
        "colab_type": "text"
      },
      "source": [
        "<a href=\"https://colab.research.google.com/github/rung1025/S10755043Algorithm/blob/master/1104GuessNumber.ipynb\" target=\"_parent\"><img src=\"https://colab.research.google.com/assets/colab-badge.svg\" alt=\"Open In Colab\"/></a>"
      ]
    },
    {
      "cell_type": "code",
      "metadata": {
        "id": "MKKzVUb-HF5S",
        "outputId": "d33ab6b2-56a8-403c-ad54-2fa24d3c8dbd",
        "colab": {
          "base_uri": "https://localhost:8080/"
        }
      },
      "source": [
        "import random\n",
        "\n",
        "secretnumber=random.randint(1,100)\n",
        "\n",
        "min=0\n",
        "Max=100\n",
        "\n",
        "while True:\n",
        "  guessnumber=int(input(\"請輸入您猜的數\"))\n",
        "  if guessnumber==secretnumber:\n",
        "    print(\"猜對啦!\")\n",
        "    break\n",
        "  elif guessnumber>Max:\n",
        "    print(\"請輸入小於%d的數值\"%Max)  \n",
        "    \n",
        "  elif guessnumber<min:\n",
        "    print(\"請輸入大於%d的數值\"%min) \n",
        "\n",
        "\n",
        "  elif guessnumber<secretnumber:    \n",
        "    min=guessnumber\n",
        "    print(\"數值介於%d--%d之間\"%(min,Max))\n",
        "    \n",
        "  elif guessnumber>secretnumber:    \n",
        "    Max=guessnumber\n",
        "    print(\"數值介%d--%d之間\"%(min,Max))\n",
        "\n",
        "\n"
      ],
      "execution_count": 18,
      "outputs": [
        {
          "output_type": "stream",
          "text": [
            "51\n",
            "請輸入您猜的數60\n",
            "數值介0--60之間\n",
            "請輸入您猜的數88\n",
            "請輸入小於60的數值\n",
            "請輸入您猜的數40\n",
            "數值介於40--60之間\n",
            "請輸入您猜的數33\n",
            "請輸入大於40的數值\n",
            "請輸入您猜的數51\n",
            "猜對啦!\n"
          ],
          "name": "stdout"
        }
      ]
    }
  ]
}