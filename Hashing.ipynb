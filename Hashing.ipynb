{
  "nbformat": 4,
  "nbformat_minor": 0,
  "metadata": {
    "colab": {
      "name": "Hashing.ipynb",
      "provenance": [],
      "authorship_tag": "ABX9TyMIiAg5ZuQ3zTIkR7Ou6Q21",
      "include_colab_link": true
    },
    "kernelspec": {
      "name": "python3",
      "display_name": "Python 3"
    }
  },
  "cells": [
    {
      "cell_type": "markdown",
      "metadata": {
        "id": "view-in-github",
        "colab_type": "text"
      },
      "source": [
        "<a href=\"https://colab.research.google.com/github/rung1025/S10755043Algorithm/blob/master/Hashing.ipynb\" target=\"_parent\"><img src=\"https://colab.research.google.com/assets/colab-badge.svg\" alt=\"Open In Colab\"/></a>"
      ]
    },
    {
      "cell_type": "code",
      "metadata": {
        "id": "_uCAiSYqwfme",
        "outputId": "71feac3a-3288-4e58-b3ce-24a090a89673",
        "colab": {
          "base_uri": "https://localhost:8080/",
          "height": 221
        }
      },
      "source": [
        "import random\n",
        "\n",
        "INDEXBOX=10\n",
        "MAXNUM=7\n",
        "\n",
        "def print_data(data,max_number):\n",
        "  print('\\t',end='')\n",
        "  for i in range(max_number):\n",
        "    print('[%2d]'%data[i],end='')\n",
        "  print()\n",
        "\n",
        "def create_table(num,index):\n",
        "  tmp=num%INDEXBOX\n",
        "  while True:\n",
        "    if index[tmp]==-1:\n",
        "      index[tmp]=num\n",
        "      break\n",
        "    else:\n",
        "      tmp=(tmp+1)%INDEXBOX\n",
        "\n",
        "#main\n",
        "index=[None]*INDEXBOX\n",
        "data=[None]*MAXNUM\n",
        "\n",
        "print('原始陣列值:')\n",
        "for i in range(MAXNUM):\n",
        "  data[i]=random.randint(1,20)\n",
        "for i in range(INDEXBOX):\n",
        "  index[i]=-1\n",
        "print_data(data,MAXNUM)\n",
        "\n",
        "print('雜湊表內容:')\n",
        "for i in range(MAXNUM):\n",
        "  create_table(data[i],index)\n",
        "  print('%2d=>'%data[i],end='')\n",
        "  print_data(index,INDEXBOX)\n",
        "\n",
        "print('完成雜湊表:')\n",
        "print_data(index,INDEXBOX)"
      ],
      "execution_count": null,
      "outputs": [
        {
          "output_type": "stream",
          "text": [
            "原始陣列值:\n",
            "\t[ 8][11][20][ 2][11][ 2][ 4]\n",
            "雜湊表內容:\n",
            " 8=>\t[-1][-1][-1][-1][-1][-1][-1][-1][ 8][-1]\n",
            "11=>\t[-1][11][-1][-1][-1][-1][-1][-1][ 8][-1]\n",
            "20=>\t[20][11][-1][-1][-1][-1][-1][-1][ 8][-1]\n",
            " 2=>\t[20][11][ 2][-1][-1][-1][-1][-1][ 8][-1]\n",
            "11=>\t[20][11][ 2][11][-1][-1][-1][-1][ 8][-1]\n",
            " 2=>\t[20][11][ 2][11][ 2][-1][-1][-1][ 8][-1]\n",
            " 4=>\t[20][11][ 2][11][ 2][ 4][-1][-1][ 8][-1]\n",
            "完成雜湊表:\n",
            "\t[20][11][ 2][11][ 2][ 4][-1][-1][ 8][-1]\n"
          ],
          "name": "stdout"
        }
      ]
    },
    {
      "cell_type": "code",
      "metadata": {
        "id": "38ThDZkYFghb",
        "outputId": "c287ef35-77d6-4c56-d9fe-90154db628b9",
        "colab": {
          "base_uri": "https://localhost:8080/",
          "height": 323
        }
      },
      "source": [
        "import random     #平方探測\n",
        "\n",
        "INDEXBOX=10\n",
        "MAXNUM=7\n",
        "\n",
        "\n",
        "def print_data(data,max_number):\n",
        "  print('\\t',end='')\n",
        "  for i in range(max_number):\n",
        "    print('[%2d]'%data[i],end='')\n",
        "  print()\n",
        "\n",
        "def create_table(num,index):\n",
        "  tmp=num%INDEXBOX\n",
        "  a=1\n",
        "  while True:\n",
        "    if index[tmp]==-1:\n",
        "      index[tmp]=num\n",
        "      break\n",
        "    else:\n",
        "      tmp=(tmp+(a**2-(a-1)**2))%INDEXBOX   #因為第二次以後的tmp會加到平方後的a，累加計算會錯誤，所以減掉前一次加上去的，才會是原本的tmp加上a次平方\n",
        "      print(\"第%d次碰撞:(tmp+%d**2)\"%(a,a))\n",
        "      a+=1      \n",
        "\n",
        "#main\n",
        "index=[None]*INDEXBOX\n",
        "data=[None]*MAXNUM\n",
        "\n",
        "print('原始陣列值:')\n",
        "for i in range(MAXNUM):\n",
        "  data[i]=random.randint(1,20)\n",
        "for i in range(INDEXBOX):\n",
        "  index[i]=-1\n",
        "print_data(data,MAXNUM)\n",
        "\n",
        "print('雜湊表內容:')\n",
        "for i in range(MAXNUM):\n",
        "  create_table(data[i],index)\n",
        "  print('%2d=>'%data[i],end='')\n",
        "  print_data(index,INDEXBOX)\n",
        "\n",
        "print('完成雜湊表:')\n",
        "print_data(index,INDEXBOX)"
      ],
      "execution_count": 24,
      "outputs": [
        {
          "output_type": "stream",
          "text": [
            "原始陣列值:\n",
            "\t[12][ 4][16][12][14][ 8][ 4]\n",
            "雜湊表內容:\n",
            "12=>\t[-1][-1][12][-1][-1][-1][-1][-1][-1][-1]\n",
            " 4=>\t[-1][-1][12][-1][ 4][-1][-1][-1][-1][-1]\n",
            "16=>\t[-1][-1][12][-1][ 4][-1][16][-1][-1][-1]\n",
            "第1次碰撞:(tmp+1**2)\n",
            "12=>\t[-1][-1][12][12][ 4][-1][16][-1][-1][-1]\n",
            "第1次碰撞:(tmp+1**2)\n",
            "14=>\t[-1][-1][12][12][ 4][14][16][-1][-1][-1]\n",
            " 8=>\t[-1][-1][12][12][ 4][14][16][-1][ 8][-1]\n",
            "第1次碰撞:(tmp+1**2)\n",
            "第2次碰撞:(tmp+2**2)\n",
            "第3次碰撞:(tmp+3**2)\n",
            "第4次碰撞:(tmp+4**2)\n",
            " 4=>\t[ 4][-1][12][12][ 4][14][16][-1][ 8][-1]\n",
            "完成雜湊表:\n",
            "\t[ 4][-1][12][12][ 4][14][16][-1][ 8][-1]\n"
          ],
          "name": "stdout"
        }
      ]
    },
    {
      "cell_type": "code",
      "metadata": {
        "id": "5QLSCBy0FOYE",
        "outputId": "21ab9bcc-7bfa-4781-888b-09c82ff35410",
        "colab": {
          "base_uri": "https://localhost:8080/",
          "height": 289
        }
      },
      "source": [
        "import random   #再雜湊\n",
        "\n",
        "INDEXBOX=10\n",
        "MAXNUM=7\n",
        "\n",
        "def print_data(data,max_number):\n",
        "  print('\\t',end='')\n",
        "  for i in range(max_number):\n",
        "    print('[%2d]'%data[i],end='')\n",
        "  print()\n",
        "\n",
        "def create_table(num,index):\n",
        "  tmp=num%INDEXBOX    \n",
        "  n=1  #進行第幾次再雜湊\n",
        "  a=1 #再雜湊的參考數值  \n",
        "  while True:\n",
        "    if index[tmp]==-1:\n",
        "      index[tmp]=num\n",
        "      break   \n",
        "    else:\n",
        "      tmp=(tmp+(2*a-(n-1)))%INDEXBOX   #因為第二次以後的tmp會加到平方後的a，累加計算會錯誤，所以減掉前一次加上去的，才會是原本的tmp加上a次平\n",
        "      b=(2*a-(n-1))  #計算用\n",
        "      print(\"第%d次碰撞:(tmp+%d)\"%(n,b))\n",
        "      n+=1\n",
        "      a+=1    \n",
        "\n",
        "#main\n",
        "index=[None]*INDEXBOX\n",
        "data=[None]*MAXNUM\n",
        "\n",
        "print('原始陣列值:')\n",
        "for i in range(MAXNUM):  data[i]=random.randint(1,20)\n",
        "for i in range(INDEXBOX):\n",
        "  index[i]=-1\n",
        "print_data(data,MAXNUM)\n",
        "\n",
        "print('雜湊表內容:')\n",
        "for i in range(MAXNUM):\n",
        "  create_table(data[i],index)\n",
        "  print('%2d=>'%data[i],end='')\n",
        "  print_data(index,INDEXBOX)\n",
        "\n",
        "print('完成雜湊表:')\n",
        "print_data(index,INDEXBOX)"
      ],
      "execution_count": 75,
      "outputs": [
        {
          "output_type": "stream",
          "text": [
            "原始陣列值:\n",
            "\t[17][ 2][ 6][ 9][12][20][12]\n",
            "雜湊表內容:\n",
            "17=>\t[-1][-1][-1][-1][-1][-1][-1][17][-1][-1]\n",
            " 2=>\t[-1][-1][ 2][-1][-1][-1][-1][17][-1][-1]\n",
            " 6=>\t[-1][-1][ 2][-1][-1][-1][ 6][17][-1][-1]\n",
            " 9=>\t[-1][-1][ 2][-1][-1][-1][ 6][17][-1][ 9]\n",
            "第1次碰撞:(tmp+2)\n",
            "12=>\t[-1][-1][ 2][-1][12][-1][ 6][17][-1][ 9]\n",
            "20=>\t[20][-1][ 2][-1][12][-1][ 6][17][-1][ 9]\n",
            "第1次碰撞:(tmp+2)\n",
            "第2次碰撞:(tmp+3)\n",
            "第3次碰撞:(tmp+4)\n",
            "12=>\t[20][12][ 2][-1][12][-1][ 6][17][-1][ 9]\n",
            "完成雜湊表:\n",
            "\t[20][12][ 2][-1][12][-1][ 6][17][-1][ 9]\n"
          ],
          "name": "stdout"
        }
      ]
    },
    {
      "cell_type": "code",
      "metadata": {
        "id": "mTx0q6nDMBiV"
      },
      "source": [
        ""
      ],
      "execution_count": null,
      "outputs": []
    }
  ]
}