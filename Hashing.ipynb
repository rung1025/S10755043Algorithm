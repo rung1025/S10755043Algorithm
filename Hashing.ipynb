{
  "nbformat": 4,
  "nbformat_minor": 0,
  "metadata": {
    "colab": {
      "name": "Hashing.ipynb",
      "provenance": [],
      "authorship_tag": "ABX9TyPMDLYCseIe+iXULtZWS1Gu",
      "include_colab_link": true
    },
    "kernelspec": {
      "name": "python3",
      "display_name": "Python 3"
    }
  },
  "cells": [
    {
      "cell_type": "markdown",
      "metadata": {
        "id": "view-in-github",
        "colab_type": "text"
      },
      "source": [
        "<a href=\"https://colab.research.google.com/github/rung1025/S10755043Algorithm/blob/master/Hashing.ipynb\" target=\"_parent\"><img src=\"https://colab.research.google.com/assets/colab-badge.svg\" alt=\"Open In Colab\"/></a>"
      ]
    },
    {
      "cell_type": "code",
      "metadata": {
        "id": "_uCAiSYqwfme",
        "outputId": "71feac3a-3288-4e58-b3ce-24a090a89673",
        "colab": {
          "base_uri": "https://localhost:8080/",
          "height": 221
        }
      },
      "source": [
        "import random\n",
        "\n",
        "INDEXBOX=10\n",
        "MAXNUM=7\n",
        "\n",
        "def print_data(data,max_number):\n",
        "  print('\\t',end='')\n",
        "  for i in range(max_number):\n",
        "    print('[%2d]'%data[i],end='')\n",
        "  print()\n",
        "\n",
        "def create_table(num,index):\n",
        "  tmp=num%INDEXBOX\n",
        "  while True:\n",
        "    if index[tmp]==-1:\n",
        "      index[tmp]=num\n",
        "      break\n",
        "    else:\n",
        "      tmp=(tmp+1)%INDEXBOX\n",
        "\n",
        "#main\n",
        "index=[None]*INDEXBOX\n",
        "data=[None]*MAXNUM\n",
        "\n",
        "print('原始陣列值:')\n",
        "for i in range(MAXNUM):\n",
        "  data[i]=random.randint(1,20)\n",
        "for i in range(INDEXBOX):\n",
        "  index[i]=-1\n",
        "print_data(data,MAXNUM)\n",
        "\n",
        "print('雜湊表內容:')\n",
        "for i in range(MAXNUM):\n",
        "  create_table(data[i],index)\n",
        "  print('%2d=>'%data[i],end='')\n",
        "  print_data(index,INDEXBOX)\n",
        "\n",
        "print('完成雜湊表:')\n",
        "print_data(index,INDEXBOX)"
      ],
      "execution_count": 7,
      "outputs": [
        {
          "output_type": "stream",
          "text": [
            "原始陣列值:\n",
            "\t[ 8][11][20][ 2][11][ 2][ 4]\n",
            "雜湊表內容:\n",
            " 8=>\t[-1][-1][-1][-1][-1][-1][-1][-1][ 8][-1]\n",
            "11=>\t[-1][11][-1][-1][-1][-1][-1][-1][ 8][-1]\n",
            "20=>\t[20][11][-1][-1][-1][-1][-1][-1][ 8][-1]\n",
            " 2=>\t[20][11][ 2][-1][-1][-1][-1][-1][ 8][-1]\n",
            "11=>\t[20][11][ 2][11][-1][-1][-1][-1][ 8][-1]\n",
            " 2=>\t[20][11][ 2][11][ 2][-1][-1][-1][ 8][-1]\n",
            " 4=>\t[20][11][ 2][11][ 2][ 4][-1][-1][ 8][-1]\n",
            "完成雜湊表:\n",
            "\t[20][11][ 2][11][ 2][ 4][-1][-1][ 8][-1]\n"
          ],
          "name": "stdout"
        }
      ]
    },
    {
      "cell_type": "code",
      "metadata": {
        "id": "38ThDZkYFghb",
        "outputId": "ba2ebbae-7bc5-4d6e-cac0-11c44bd2c87b",
        "colab": {
          "base_uri": "https://localhost:8080/",
          "height": 68
        }
      },
      "source": [
        "import random     #平方探測\n",
        "\n",
        "INDEXBOX=10\n",
        "MAXNUM=7\n",
        "a=1\n",
        "\n",
        "def print_data(data,max_number):\n",
        "  print('\\t',end='')\n",
        "  for i in range(max_number):\n",
        "    print('[%2d]'%data[i],end='')\n",
        "  print()\n",
        "\n",
        "def create_table(num,index):\n",
        "  tmp=num%INDEXBOX\n",
        "  while True:\n",
        "    if index[tmp]==-1:\n",
        "      index[tmp]=num\n",
        "    else:\n",
        "      tmp=(tmp+a**2)%INDEXBOX\n",
        "      a+1\n",
        "\n",
        "      \n",
        "\n",
        "#main\n",
        "index=[None]*INDEXBOX\n",
        "data=[None]*MAXNUM\n",
        "\n",
        "print('原始陣列值:')\n",
        "for i in range(MAXNUM):\n",
        "  data[i]=random.randint(1,20)\n",
        "for i in range(INDEXBOX):\n",
        "  index[i]=-1\n",
        "print_data(data,MAXNUM)\n",
        "\n",
        "print('雜湊表內容:')\n",
        "for i in range(MAXNUM):\n",
        "  create_table(data[i],index)\n",
        "  print('%2d=>'%data[i],end='')\n",
        "  print_data(index,INDEXBOX)\n",
        "\n",
        "print('完成雜湊表:')\n",
        "print_data(index,INDEXBOX)"
      ],
      "execution_count": null,
      "outputs": [
        {
          "output_type": "stream",
          "text": [
            "原始陣列值:\n",
            "\t[14][ 8][18][17][10][ 7][ 1]\n",
            "雜湊表內容:\n"
          ],
          "name": "stdout"
        }
      ]
    }
  ]
}