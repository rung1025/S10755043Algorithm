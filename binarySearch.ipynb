{
  "nbformat": 4,
  "nbformat_minor": 0,
  "metadata": {
    "colab": {
      "name": "binarySearch.ipynb",
      "provenance": [],
      "authorship_tag": "ABX9TyN4SO7JJ49U18KKOlOkzHGV",
      "include_colab_link": true
    },
    "kernelspec": {
      "name": "python3",
      "display_name": "Python 3"
    }
  },
  "cells": [
    {
      "cell_type": "markdown",
      "metadata": {
        "id": "view-in-github",
        "colab_type": "text"
      },
      "source": [
        "<a href=\"https://colab.research.google.com/github/rung1025/S10755043Algorithm/blob/master/binarySearch.ipynb\" target=\"_parent\"><img src=\"https://colab.research.google.com/assets/colab-badge.svg\" alt=\"Open In Colab\"/></a>"
      ]
    },
    {
      "cell_type": "code",
      "metadata": {
        "id": "68oVXU618WK8",
        "outputId": "9cdce158-58f7-4340-9a80-5f40f4c2b05e",
        "colab": {
          "base_uri": "https://localhost:8080/",
          "height": 136
        }
      },
      "source": [
        "def Bubble_Sort(datas):\n",
        "    for i in range(1, len(datas)): # \n",
        "        for j in range(len(datas)-i):   # \n",
        "            if datas[j] > datas[j+1]:   # 若發現此次比較的數比下一個位置的數還大則交換此兩數值\n",
        "                datas[j], datas[j+1] = datas[j+1], datas[j]\n",
        "    return datas\n",
        "\n",
        "\n",
        "def binarySearch(arr2,l,r,x):\n",
        "  if r<=l:\n",
        "    mid=l+(r-l)//2\n",
        "    if arr2[mid]==x:\n",
        "      return mid\n",
        "    elif arr2[aid]>x:\n",
        "      return binarySearch(arr2,l,mid-1,x)\n",
        "    else:\n",
        "      return binarySearch(arr2,mid+1,r,x)\n",
        "  else:\n",
        "    return-1\n",
        "\n",
        "\n",
        "\n",
        "if __name__ == '__main__':\n",
        "    arr = input(\"請輸入個數值(請用空白鍵分開輸入)\").split()     #讓使用者輸入6個數值，並用split語法分開為6個字串並存入a這個list中\n",
        "    while len(arr)!=5:                         #while迴圈判斷使用者輸入的是否是6個數值\n",
        "      print(\"請輸入5個數值or注意加上空白建\")            #若不是則跳出警語\n",
        "      arr = input(\"請輸入5個數值(請用空白鍵分開輸入)\").split()   #使用者重新輸入，直到符合要求\n",
        "    for i in range(0,len(arr)):                   #使用for迴圈讀取list裡面的每一個值\n",
        "      arr[i]=int(arr[i])   \n",
        "    print(\"排序前\")\n",
        "    print(arr)                             #並將原本的字串型態一一轉成整數\n",
        "    arr2 = Bubble_Sort(arr)\n",
        "    print(\"排序後\")\n",
        "    print(arr2)\n",
        "\n",
        "x=int(input(\"請輸入key value=\"))\n",
        "\n",
        "result=binarySearch(arr2,0,len(arr2)-1,x)\n",
        "\n",
        "if result !=-1:\n",
        "  print(\"元素在索引%d\"%result)\n",
        "else:\n",
        "  print(\"陣列中找不到該元素\")"
      ],
      "execution_count": 15,
      "outputs": [
        {
          "output_type": "stream",
          "text": [
            "請輸入個數值(請用空白鍵分開輸入)3 4 9 8 5\n",
            "排序前\n",
            "[3, 4, 9, 8, 5]\n",
            "排序後\n",
            "[3, 4, 5, 8, 9]\n",
            "請輸入key value=9\n",
            "陣列中找不到該元素\n"
          ],
          "name": "stdout"
        }
      ]
    }
  ]
}