{
  "nbformat": 4,
  "nbformat_minor": 0,
  "metadata": {
    "colab": {
      "name": "1216.ipynb",
      "provenance": [],
      "authorship_tag": "ABX9TyMlq/yC+zbtYGUEoj+wiEGM",
      "include_colab_link": true
    },
    "kernelspec": {
      "name": "python3",
      "display_name": "Python 3"
    }
  },
  "cells": [
    {
      "cell_type": "markdown",
      "metadata": {
        "id": "view-in-github",
        "colab_type": "text"
      },
      "source": [
        "<a href=\"https://colab.research.google.com/github/rung1025/S10755043Algorithm/blob/master/1216.ipynb\" target=\"_parent\"><img src=\"https://colab.research.google.com/assets/colab-badge.svg\" alt=\"Open In Colab\"/></a>"
      ]
    },
    {
      "cell_type": "markdown",
      "metadata": {
        "id": "8HaE0c7MYgFn"
      },
      "source": [
        "NP問題範例介紹:\r\n",
        "\r\n",
        "一個問題而結果只有是或否兩種可能，無法直接證明需透過驗證去找出答案。\r\n",
        "\r\n",
        "EX：Hamilton Path哈密頓圖\r\n",
        "\r\n",
        "由指定的起點前往指定的終點，途中經過所有其他節點且只經過一次。\r\n",
        "\r\n",
        "閉合的哈密頓路徑稱作哈密頓迴路（Hamiltonian cycle）代表終點和起點一樣。\r\n",
        "\r\n",
        "所以欲判斷一個N個節點的圖是否存在Hamiltonian cycle就是一個NP問題。\r\n",
        "\r\n",
        "驗證:\r\n",
        "\r\n",
        "具有N個頂點的圖中的哈密頓路徑不過是圖[v 1，v 2，v 3，...... v N-1，v N ]的頂點的置換，因此存在一個v i和v i + 1之間的邊沿，其中1≤i≤N-1。因此，可以檢查所有頂點的排列是否其中任何一個代表漢密爾頓路徑。例如，對於一個有4個頂點的圖，這意味著總共24個可能的排列，其中僅以下一個代表哈密頓路徑。\r\n",
        "\r\n",
        "0-1-2-3\r\n",
        "\r\n",
        "3-2-1-0\r\n",
        "\r\n",
        "0-1-3-2\r\n",
        "\r\n",
        "2-3-1-0\r\n",
        "\r\n",
        "\r\n",
        "\r\n",
        "\r\n",
        "參考資料來源:\r\n",
        "\r\n",
        "https://zh.wikipedia.org/wiki/%E5%93%88%E5%AF%86%E9%A1%BF%E5%9B%BE\r\n",
        "\r\n",
        "http://web.ntnu.edu.tw/~algo/Circuit.html\r\n",
        "\r\n",
        "\r\n",
        "https://www.hackerearth.com/practice/algorithms/graphs/hamiltonian-path/tutorial/\r\n",
        "\r\n",
        "\r\n",
        "\r\n"
      ]
    },
    {
      "cell_type": "code",
      "metadata": {
        "colab": {
          "base_uri": "https://localhost:8080/"
        },
        "id": "NlER2f0Pehzk",
        "outputId": "8522dd0a-04a6-4792-cb1d-74658abca3f9"
      },
      "source": [
        "class Graph():  \r\n",
        "    def __init__(self, vertices):  \r\n",
        "        self.graph = [[0 for column in range(vertices)] \r\n",
        "                            for row in range(vertices)]  \r\n",
        "        self.V = vertices  \r\n",
        "  \r\n",
        "    ''' Check if this vertex is an adjacent vertex  \r\n",
        "        of the previously added vertex and is not  \r\n",
        "        included in the path earlier '''\r\n",
        "    def isSafe(self, v, pos, path):  \r\n",
        "        # Check if current vertex and last vertex  \r\n",
        "        # in path are adjacent  \r\n",
        "        if self.graph[ path[pos-1] ][v] == 0:  \r\n",
        "            return False\r\n",
        "  \r\n",
        "        # Check if current vertex not already in path  \r\n",
        "        for vertex in path:  \r\n",
        "            if vertex == v:  \r\n",
        "                return False\r\n",
        "  \r\n",
        "        return True\r\n",
        "  \r\n",
        "    # A recursive utility function to solve  \r\n",
        "    # hamiltonian cycle problem  \r\n",
        "    def hamCycleUtil(self, path, pos):  \r\n",
        "  \r\n",
        "        # base case: if all vertices are  \r\n",
        "        # included in the path  \r\n",
        "        if pos == self.V:  \r\n",
        "            # Last vertex must be adjacent to the  \r\n",
        "            # first vertex in path to make a cyle  \r\n",
        "            if self.graph[ path[pos-1] ][ path[0] ] == 1:  \r\n",
        "                return True\r\n",
        "            else:  \r\n",
        "                return False\r\n",
        "  \r\n",
        "        # Try different vertices as a next candidate  \r\n",
        "        # in Hamiltonian Cycle. We don't try for 0 as  \r\n",
        "        # we included 0 as starting point in hamCycle()  \r\n",
        "        for v in range(1,self.V):  \r\n",
        "  \r\n",
        "            if self.isSafe(v, pos, path) == True:  \r\n",
        "  \r\n",
        "                path[pos] = v  \r\n",
        "  \r\n",
        "                if self.hamCycleUtil(path, pos+1) == True:  \r\n",
        "                    return True\r\n",
        "  \r\n",
        "                # Remove current vertex if it doesn't  \r\n",
        "                # lead to a solution  \r\n",
        "                path[pos] = -1\r\n",
        "  \r\n",
        "        return False\r\n",
        "  \r\n",
        "    def hamCycle(self):  \r\n",
        "        path = [-1] * self.V  \r\n",
        "  \r\n",
        "        ''' Let us put vertex 0 as the first vertex  \r\n",
        "            in the path. If there is a Hamiltonian Cycle,  \r\n",
        "            then the path can be started from any point  \r\n",
        "            of the cycle as the graph is undirected '''\r\n",
        "        path[0] = 0\r\n",
        "  \r\n",
        "        if self.hamCycleUtil(path,1) == False:  \r\n",
        "            print (\"Solution does not exist\\n\") \r\n",
        "            return False\r\n",
        "  \r\n",
        "        self.printSolution(path)  \r\n",
        "        return True\r\n",
        "  \r\n",
        "    def printSolution(self, path):  \r\n",
        "        print (\"Solution Exists: Following\", \r\n",
        "                 \"is one Hamiltonian Cycle\") \r\n",
        "        for vertex in path:  \r\n",
        "            print (vertex, end = \" \") \r\n",
        "        print (path[0], \"\\n\") \r\n",
        "  \r\n",
        "# Driver Code  \r\n",
        "  \r\n",
        "''' Let us create the following graph  \r\n",
        "    (0)--(1)--(2)  \r\n",
        "    | / \\ |  \r\n",
        "    | / \\ |  \r\n",
        "    | /  \\ |  \r\n",
        "    (3)-------(4) '''\r\n",
        "g1 = Graph(5)  \r\n",
        "g1.graph = [ [0, 1, 0, 1, 0], [1, 0, 1, 1, 1],  \r\n",
        "            [0, 1, 0, 0, 1,],[1, 1, 0, 0, 1],  \r\n",
        "            [0, 1, 1, 1, 0], ]  \r\n",
        "  \r\n",
        "# Print the solution  \r\n",
        "g1.hamCycle();  \r\n",
        "  \r\n",
        "''' Let us create the following graph  \r\n",
        "    (0)--(1)--(2)  \r\n",
        "    | / \\ |  \r\n",
        "    | / \\ |  \r\n",
        "    | /  \\ |  \r\n",
        "    (3)  (4) '''\r\n",
        "g2 = Graph(5)  \r\n",
        "g2.graph = [ [0, 1, 0, 1, 0], [1, 0, 1, 1, 1],  \r\n",
        "        [0, 1, 0, 0, 1,], [1, 1, 0, 0, 0],  \r\n",
        "        [0, 1, 1, 0, 0], ]  \r\n",
        "  \r\n",
        "# Print the solution  \r\n",
        "g2.hamCycle();  \r\n",
        "  \r\n",
        "# This code is contributed by Divyanshu Mehta  \r\n"
      ],
      "execution_count": 2,
      "outputs": [
        {
          "output_type": "stream",
          "text": [
            "Solution Exists: Following is one Hamiltonian Cycle\n",
            "0 1 2 4 3 0 \n",
            "\n",
            "Solution does not exist\n",
            "\n"
          ],
          "name": "stdout"
        }
      ]
    },
    {
      "cell_type": "markdown",
      "metadata": {
        "id": "EgUegcgge_So"
      },
      "source": [
        "程式碼來源:\r\n",
        "\r\n",
        "https://www.geeksforgeeks.org/hamiltonian-cycle-backtracking-6/"
      ]
    }
  ]
}