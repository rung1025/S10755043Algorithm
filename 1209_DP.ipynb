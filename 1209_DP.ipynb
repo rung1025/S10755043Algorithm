{
  "nbformat": 4,
  "nbformat_minor": 0,
  "metadata": {
    "colab": {
      "name": "1209-DP.ipynb",
      "provenance": [],
      "authorship_tag": "ABX9TyMaFWOWlnP5/TUc/Yl0lTw5",
      "include_colab_link": true
    },
    "kernelspec": {
      "name": "python3",
      "display_name": "Python 3"
    }
  },
  "cells": [
    {
      "cell_type": "markdown",
      "metadata": {
        "id": "view-in-github",
        "colab_type": "text"
      },
      "source": [
        "<a href=\"https://colab.research.google.com/github/rung1025/S10755043Algorithm/blob/master/1209_DP.ipynb\" target=\"_parent\"><img src=\"https://colab.research.google.com/assets/colab-badge.svg\" alt=\"Open In Colab\"/></a>"
      ]
    },
    {
      "cell_type": "code",
      "metadata": {
        "id": "eh89WJv0HFMA"
      },
      "source": [
        ""
      ],
      "execution_count": null,
      "outputs": []
    },
    {
      "cell_type": "code",
      "metadata": {
        "colab": {
          "base_uri": "https://localhost:8080/"
        },
        "id": "Ba7ITQ2dWcqU",
        "outputId": "b89ed780-727b-4c32-d7eb-2220668121b5"
      },
      "source": [
        "import sys \r\n",
        "      \r\n",
        "# Returns the best obtainable price for a rod of length n  \r\n",
        "# and price[] as prices of different pieces \r\n",
        "def cutRod(price, n):  # n是鐵條欲切割的長度\r\n",
        "    if(n <= 0): \r\n",
        "        return 0\r\n",
        "    max_val = -sys.maxsize-1  #maxsize:最大支持的長度方法例如：print(sys.maxsize)>>> 9223372036854775807 #先將max_val設為一個不可能的數，才有繼續比較最大值的可能性\r\n",
        "    \r\n",
        "    #遞歸地將桿切成不同的塊並比較不同的配置\r\n",
        "    for i in range(0, n):         \r\n",
        "        max_val = max(max_val, price[i] + cutRod(price, n - i - 1))  #將大問題分解成小問題            \r\n",
        "    return max_val \r\n",
        "  \r\n",
        "\r\n",
        "arr = [1, 5, 8, 9, 10, 17, 17, 20, 24, 30] \r\n",
        "size = int(input(\"鐵條長度n=?\")) \r\n",
        "while True:\r\n",
        "  if size<=10 and size>=0:\r\n",
        "    break\r\n",
        "  else:\r\n",
        "    size = int(input(\"請輸入不超過10的鐵條長度n=?\")) \r\n",
        "print(\"最高賣價\", cutRod(arr, size)) \r\n"
      ],
      "execution_count": 26,
      "outputs": [
        {
          "output_type": "stream",
          "text": [
            "鐵條長度n=?-1\n",
            "請輸入不超過10的鐵條長度n=?5\n",
            "最高賣價 13\n"
          ],
          "name": "stdout"
        }
      ]
    }
  ]
}