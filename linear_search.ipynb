{
  "nbformat": 4,
  "nbformat_minor": 0,
  "metadata": {
    "colab": {
      "name": "linear_search",
      "provenance": [],
      "authorship_tag": "ABX9TyPNNMpAQBtPeBzl+EWjMMjL",
      "include_colab_link": true
    },
    "kernelspec": {
      "name": "python3",
      "display_name": "Python 3"
    }
  },
  "cells": [
    {
      "cell_type": "markdown",
      "metadata": {
        "id": "view-in-github",
        "colab_type": "text"
      },
      "source": [
        "<a href=\"https://colab.research.google.com/github/rung1025/S10755043Algorithm/blob/master/linear_search.ipynb\" target=\"_parent\"><img src=\"https://colab.research.google.com/assets/colab-badge.svg\" alt=\"Open In Colab\"/></a>"
      ]
    },
    {
      "cell_type": "code",
      "metadata": {
        "id": "FMiWsDg-yww4",
        "outputId": "32b833fa-75e9-42c7-b189-3e34458546a1",
        "colab": {
          "base_uri": "https://localhost:8080/",
          "height": 34
        }
      },
      "source": [
        "data=[20,31,50,17,16,36,19,8]\n",
        "\n",
        "def sequential_search(data,key):\n",
        "  for i in data:\n",
        "    if i==key:\n",
        "      print(\"找到了\")\n",
        "      break\n",
        "\n",
        "sequential_search(data,17)"
      ],
      "execution_count": 7,
      "outputs": [
        {
          "output_type": "stream",
          "text": [
            "找到了\n"
          ],
          "name": "stdout"
        }
      ]
    },
    {
      "cell_type": "code",
      "metadata": {
        "id": "_t2QtaEa4PKO"
      },
      "source": [
        ""
      ],
      "execution_count": null,
      "outputs": []
    },
    {
      "cell_type": "code",
      "metadata": {
        "id": "6gRyu45w2vko",
        "outputId": "66ca2156-0b1d-4fdd-b432-5cc55b28f308",
        "colab": {
          "base_uri": "https://localhost:8080/",
          "height": 34
        }
      },
      "source": [
        "data=[20,31,50,17,16,36,19,8]\n",
        "\n",
        "def sequential_search(data,key):\n",
        "    position = 0\n",
        "\n",
        "    while position < len(data):      #當pos比陣列的長度還小代表還沒找完全部\n",
        "        if data[position] == key:   #如果此位置的值跟指定key值一樣\n",
        "            return True       #回傳true代表這個值有在陣列裡\n",
        "        position = position + 1   #沒有就加一繼續找下去\n",
        "\n",
        "    return False       #找完全部都沒有後回傳false代表陣列沒有有此數值\n",
        "\n",
        "\n",
        "Sequential_Search(data,5)"
      ],
      "execution_count": 21,
      "outputs": [
        {
          "output_type": "execute_result",
          "data": {
            "text/plain": [
              "False"
            ]
          },
          "metadata": {
            "tags": []
          },
          "execution_count": 21
        }
      ]
    }
  ]
}