{
  "nbformat": 4,
  "nbformat_minor": 0,
  "metadata": {
    "colab": {
      "name": "linear_search",
      "provenance": [],
      "authorship_tag": "ABX9TyN+mKAxNzI0cjRj6vpP5dnP",
      "include_colab_link": true
    },
    "kernelspec": {
      "name": "python3",
      "display_name": "Python 3"
    }
  },
  "cells": [
    {
      "cell_type": "markdown",
      "metadata": {
        "id": "view-in-github",
        "colab_type": "text"
      },
      "source": [
        "<a href=\"https://colab.research.google.com/github/rung1025/S10755043Algorithm/blob/master/linear_search.ipynb\" target=\"_parent\"><img src=\"https://colab.research.google.com/assets/colab-badge.svg\" alt=\"Open In Colab\"/></a>"
      ]
    },
    {
      "cell_type": "code",
      "metadata": {
        "id": "FMiWsDg-yww4",
        "outputId": "32b833fa-75e9-42c7-b189-3e34458546a1",
        "colab": {
          "base_uri": "https://localhost:8080/",
          "height": 34
        }
      },
      "source": [
        "data=[20,31,50,17,16,36,19,8]\n",
        "\n",
        "def sequential_search(data,key):\n",
        "  for i in data:\n",
        "    if i==key:\n",
        "      print(\"找到了\")\n",
        "      break\n",
        "\n",
        "sequential_search(data,17)"
      ],
      "execution_count": 7,
      "outputs": [
        {
          "output_type": "stream",
          "text": [
            "找到了\n"
          ],
          "name": "stdout"
        }
      ]
    },
    {
      "cell_type": "code",
      "metadata": {
        "id": "6gRyu45w2vko",
        "outputId": "f4d99e00-874d-4cec-d63c-1d0a720e29cf",
        "colab": {
          "base_uri": "https://localhost:8080/",
          "height": 34
        }
      },
      "source": [
        "data=[20,31,50,17,16,36,19,8]\n",
        "\n",
        "def sequential_search(data,key):\n",
        "    position = 0\n",
        "\n",
        "    while position < len(data):\n",
        "        if data[position] == key:\n",
        "            return True\n",
        "        position = position + 1\n",
        "\n",
        "    return False\n",
        "\n",
        "\n",
        "Sequential_Search(data,5)"
      ],
      "execution_count": 13,
      "outputs": [
        {
          "output_type": "execute_result",
          "data": {
            "text/plain": [
              "False"
            ]
          },
          "metadata": {
            "tags": []
          },
          "execution_count": 13
        }
      ]
    }
  ]
}